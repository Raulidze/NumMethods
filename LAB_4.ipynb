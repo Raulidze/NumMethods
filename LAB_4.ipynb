{
 "cells": [
  {
   "cell_type": "code",
   "execution_count": 1,
   "metadata": {},
   "outputs": [],
   "source": [
    "import numpy as np\n",
    "import matplotlib.pyplot as plt\n",
    "import math\n",
    "import plotly.graph_objects as gr\n",
    "from mpl_toolkits import mplot3d\n",
    "from mpl_toolkits.mplot3d import axes3d\n",
    "from sympy import *"
   ]
  },
  {
   "cell_type": "code",
   "execution_count": 2,
   "metadata": {},
   "outputs": [],
   "source": [
    "def heaviside(x1):\n",
    "    return 1*(x1>0)\n",
    "\n",
    "def phi_1(x1):\n",
    "    return heaviside(x1-1)*heaviside(2-x1)\n",
    "def a1(u=1):\n",
    "    return 1\n",
    "def f1(u):\n",
    "    return a1()*u\n",
    "\n",
    "def phi_2(x1):\n",
    "    return math.pow(math.sin(3.14*x1/2),2)*heaviside(x1)*heaviside(2-x1)\n",
    "def a2(u):\n",
    "    return u\n",
    "def f2(u):\n",
    "    return u*u/2\n",
    "\n",
    "def phi_3(x):\n",
    "    return heaviside(x)*heaviside(8/15-x)*x +heaviside(x-8/15-1e-5)*heaviside(24/15-x)*(-x + 16/15) +\\\n",
    "        heaviside(x-24/15-1e-5)*heaviside(32/15-x-1e-5)*(x-32/15)\n",
    "def a3(u):\n",
    "    return 1/(u+1)\n",
    "def f3(u):\n",
    "    return math.log(u+1)"
   ]
  },
  {
   "cell_type": "code",
   "execution_count": 19,
   "metadata": {},
   "outputs": [],
   "source": [
    "x0 = 5\n",
    "u1 = 3\n",
    "u2 = 7"
   ]
  },
  {
   "cell_type": "code",
   "execution_count": 20,
   "metadata": {},
   "outputs": [],
   "source": [
    "def phi_dop(x):\n",
    "    return heaviside(x)*heaviside(x0-x)*u1 + heaviside(x - x0)*u2 \n",
    "    \n",
    "def a_dop(u):\n",
    "    return 1 / (u**2 + 1)\n",
    "def f_dop(u):\n",
    "    return math.atan(u)"
   ]
  },
  {
   "cell_type": "code",
   "execution_count": 21,
   "metadata": {},
   "outputs": [],
   "source": [
    "def Kurant_condition(layer, h, a, c=0.9):\n",
    "    a_max = max([a(u) for u in layer])\n",
    "    T = c * h / a_max\n",
    "\n",
    "    return T\n",
    "\n",
    "def solution(phi,a,f):\n",
    "    u = []\n",
    "    h=0.01\n",
    "    x_plot = np.linspace(0, 10, 1000)\n",
    "    u0 = [phi(i) for i in x_plot]\n",
    "    u.append(u0)\n",
    "\n",
    "    ti=0\n",
    "    t_end=1\n",
    "    while ti<t_end:\n",
    "        T=Kurant_condition(u[-1],h,a)\n",
    "        u01 = []\n",
    "        u01.append(0)\n",
    "        for i in range(1,len(x_plot)-1):\n",
    "            u01.append((u[-1][i+1]+u[-1][i-1])/2-T*(f(u[-1][i+1])-f(u[-1][i-1]))/(2*h))\n",
    "        u01.append(0)\n",
    "        u.append(u01)\n",
    "        ti=ti+T\n",
    "    return u\n"
   ]
  },
  {
   "cell_type": "code",
   "execution_count": 22,
   "metadata": {},
   "outputs": [
    {
     "data": {
      "image/png": "[encoded data removed]",
      "text/plain": [
       "<Figure size 432x288 with 3 Axes>"
      ]
     },
     "metadata": {
      "needs_background": "light"
     },
     "output_type": "display_data"
    }
   ],
   "source": [
    "A1=solution(phi_1,a1,f1)\n",
    "A2=solution(phi_2,a2,f2)\n",
    "A3=solution(phi_3,a3,f3)\n",
    "A_dop = solution(phi_dop, a_dop, f_dop)\n",
    "\n",
    "h=0.01\n",
    "x_plot = np.linspace(0, 10, 1000)\n",
    "\n",
    "fig = plt.figure()\n",
    "ax = fig.add_subplot(1,3,1)\n",
    "ax.plot(x_plot, A_dop[5], color=\"green\")\n",
    "ax.set_title('шаг 5')\n",
    "ax.set_xlabel('ось X')\n",
    "ax.set_ylabel('ось U')\n",
    "\n",
    "ax1 = fig.add_subplot(1,3,2)\n",
    "ax1.plot(x_plot, A_dop[10], color=\"green\")\n",
    "ax1.set_title('шаг 10')\n",
    "ax1.set_xlabel('ось X')\n",
    "ax1.set_ylabel('ось U')\n",
    "\n",
    "ax2 = fig.add_subplot(1,3,3)\n",
    "ax2.plot(x_plot, A_dop[20], color=\"green\")\n",
    "ax2.set_title('шаг 20')\n",
    "ax2.set_xlabel('ось X')\n",
    "ax2.set_ylabel('ось U')\n",
    "\n",
    "# ax3 = fig.add_subplot(1,6,4)\n",
    "# ax3.plot(x_plot, A_dop[40], color=\"green\")\n",
    "# ax3.set_title('шаг 40')\n",
    "# ax3.set_xlabel('ось X')\n",
    "# ax3.set_ylabel('ось U')\n",
    "\n",
    "# ax3 = fig.add_subplot(1,6,5)\n",
    "# ax3.plot(x_plot, A_dop[80], color=\"green\")\n",
    "# ax3.set_title('шаг 80')\n",
    "# ax3.set_xlabel('ось X')\n",
    "# ax3.set_ylabel('ось U')\n",
    "\n",
    "# ax3 = fig.add_subplot(1,6,6)\n",
    "# ax3.plot(x_plot, A_dop[10], color=\"green\")\n",
    "# ax3.set_title('шаг 100')\n",
    "# ax3.set_xlabel('ось X')\n",
    "# ax3.set_ylabel('ось U')\n",
    "\n",
    "plt.show()"
   ]
  },
  {
   "cell_type": "code",
   "execution_count": null,
   "metadata": {},
   "outputs": [],
   "source": []
  },
  {
   "cell_type": "code",
   "execution_count": null,
   "metadata": {},
   "outputs": [],
   "source": []
  }
 ],
 "metadata": {
  "kernelspec": {
   "display_name": "Python 3",
   "language": "python",
   "name": "python3"
  },
  "language_info": {
   "codemirror_mode": {
    "name": "ipython",
    "version": 3
   },
   "file_extension": ".py",
   "mimetype": "text/x-python",
   "name": "python",
   "nbconvert_exporter": "python",
   "pygments_lexer": "ipython3",
   "version": "3.8.3"
  }
 },
 "nbformat": 4,
 "nbformat_minor": 4
}
